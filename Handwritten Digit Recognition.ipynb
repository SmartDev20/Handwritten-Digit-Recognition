{
 "cells": [
  {
   "cell_type": "code",
   "execution_count": 15,
   "id": "c26bfe48",
   "metadata": {},
   "outputs": [],
   "source": [
    "import keras\n",
    "from keras.datasets import mnist\n",
    "from keras.models import Sequential\n",
    "from keras.layers import Dense , Dropout , Flatten\n",
    "from keras.layers import Conv2D , MaxPool2D\n",
    "from keras import backend as k\n",
    "from tensorflow.keras.optimizers import Adadelta\n",
    "import matplotlib.pyplot as plt"
   ]
  },
  {
   "cell_type": "code",
   "execution_count": 2,
   "id": "d904745c",
   "metadata": {},
   "outputs": [
    {
     "name": "stdout",
     "output_type": "stream",
     "text": [
      "(60000, 28, 28) (60000,)\n",
      "(10000, 28, 28) (10000,)\n"
     ]
    }
   ],
   "source": [
    "(x_train , y_train) , (x_test , y_test) = mnist.load_data()\n",
    "print(x_train.shape , y_train.shape)\n",
    "print(x_test.shape , y_test.shape)"
   ]
  },
  {
   "cell_type": "code",
   "execution_count": 16,
   "id": "9d0dce02",
   "metadata": {},
   "outputs": [
    {
     "data": {
      "text/plain": [
       "<matplotlib.image.AxesImage at 0x7ff7bec720d0>"
      ]
     },
     "execution_count": 16,
     "metadata": {},
     "output_type": "execute_result"
    },
    {
     "data": {
      "image/png": "[encoded data removed]",
      "text/plain": [
       "<Figure size 432x288 with 1 Axes>"
      ]
     },
     "metadata": {
      "needs_background": "light"
     },
     "output_type": "display_data"
    }
   ],
   "source": [
    "plt.imshow(x_train[0])"
   ]
  },
  {
   "cell_type": "code",
   "execution_count": 17,
   "id": "3bfdff9e",
   "metadata": {},
   "outputs": [
    {
     "data": {
      "text/plain": [
       "array([0., 0., 0., 0., 0., 1., 0., 0., 0., 0.], dtype=float32)"
      ]
     },
     "execution_count": 17,
     "metadata": {},
     "output_type": "execute_result"
    }
   ],
   "source": [
    "y_train[0]"
   ]
  },
  {
   "cell_type": "code",
   "execution_count": 21,
   "id": "9ed31982",
   "metadata": {},
   "outputs": [
    {
     "data": {
      "text/plain": [
       "<matplotlib.image.AxesImage at 0x7ff7bec3ba60>"
      ]
     },
     "execution_count": 21,
     "metadata": {},
     "output_type": "execute_result"
    },
    {
     "data": {
      "image/png": "[encoded data removed]",
      "text/plain": [
       "<Figure size 432x288 with 1 Axes>"
      ]
     },
     "metadata": {
      "needs_background": "light"
     },
     "output_type": "display_data"
    }
   ],
   "source": [
    "plt.imshow(x_train[50])"
   ]
  },
  {
   "cell_type": "code",
   "execution_count": 22,
   "id": "32a0eaf8",
   "metadata": {},
   "outputs": [
    {
     "data": {
      "text/plain": [
       "array([0., 0., 0., 1., 0., 0., 0., 0., 0., 0.], dtype=float32)"
      ]
     },
     "execution_count": 22,
     "metadata": {},
     "output_type": "execute_result"
    }
   ],
   "source": [
    "y_train[50]"
   ]
  },
  {
   "cell_type": "code",
   "execution_count": 3,
   "id": "f7c7c5f1",
   "metadata": {},
   "outputs": [
    {
     "name": "stdout",
     "output_type": "stream",
     "text": [
      "x_train shape: (60000, 28, 28, 1)\n",
      "60000 train samples\n",
      "10000 test samples\n"
     ]
    }
   ],
   "source": [
    "x_train = x_train.reshape(x_train.shape[0] , 28 , 28 , 1)\n",
    "x_test = x_test.reshape(x_test.shape[0] , 28 , 28 , 1)\n",
    "\n",
    "input_shape = (28 , 28 , 1)\n",
    "num_classes = 10\n",
    "\n",
    "y_train = keras.utils.np_utils.to_categorical(y_train , num_classes)\n",
    "y_test = keras.utils.np_utils.to_categorical(y_test , num_classes)\n",
    "\n",
    "\n",
    "\n",
    "x_train = x_train.astype('float32')\n",
    "x_test = x_test.astype('float32')\n",
    "x_train /= 255\n",
    "x_test /= 255\n",
    "\n",
    "\n",
    "print('x_train shape:', x_train.shape)\n",
    "print(x_train.shape[0], 'train samples')\n",
    "print(x_test.shape[0], 'test samples')"
   ]
  },
  {
   "cell_type": "code",
   "execution_count": 4,
   "id": "c90680d6",
   "metadata": {},
   "outputs": [
    {
     "name": "stderr",
     "output_type": "stream",
     "text": [
      "2021-10-06 18:35:48.345515: W tensorflow/stream_executor/platform/default/dso_loader.cc:64] Could not load dynamic library 'libcuda.so.1'; dlerror: libcuda.so.1: cannot open shared object file: No such file or directory\n",
      "2021-10-06 18:35:48.345566: W tensorflow/stream_executor/cuda/cuda_driver.cc:269] failed call to cuInit: UNKNOWN ERROR (303)\n",
      "2021-10-06 18:35:48.345595: I tensorflow/stream_executor/cuda/cuda_diagnostics.cc:156] kernel driver does not appear to be running on this host (ews): /proc/driver/nvidia/version does not exist\n",
      "2021-10-06 18:35:48.345886: I tensorflow/core/platform/cpu_feature_guard.cc:142] This TensorFlow binary is optimized with oneAPI Deep Neural Network Library (oneDNN) to use the following CPU instructions in performance-critical operations:  AVX2 FMA\n",
      "To enable them in other operations, rebuild TensorFlow with the appropriate compiler flags.\n",
      "2021-10-06 18:35:48.700864: I tensorflow/compiler/mlir/mlir_graph_optimization_pass.cc:185] None of the MLIR Optimization Passes are enabled (registered 2)\n"
     ]
    },
    {
     "name": "stdout",
     "output_type": "stream",
     "text": [
      "Epoch 1/10\n",
      "469/469 [==============================] - 97s 204ms/step - loss: 2.2676 - accuracy: 0.1695 - val_loss: 2.2215 - val_accuracy: 0.4258\n",
      "Epoch 2/10\n",
      "469/469 [==============================] - 100s 214ms/step - loss: 2.1896 - accuracy: 0.3105 - val_loss: 2.1205 - val_accuracy: 0.5952\n",
      "Epoch 3/10\n",
      "469/469 [==============================] - 103s 219ms/step - loss: 2.0797 - accuracy: 0.4326 - val_loss: 1.9753 - val_accuracy: 0.6894\n",
      "Epoch 4/10\n",
      "469/469 [==============================] - 98s 210ms/step - loss: 1.9214 - accuracy: 0.5363 - val_loss: 1.7705 - val_accuracy: 0.7489\n",
      "Epoch 5/10\n",
      "469/469 [==============================] - 103s 220ms/step - loss: 1.7184 - accuracy: 0.6072 - val_loss: 1.5167 - val_accuracy: 0.7858\n",
      "Epoch 6/10\n",
      "469/469 [==============================] - 106s 226ms/step - loss: 1.4852 - accuracy: 0.6558 - val_loss: 1.2510 - val_accuracy: 0.8093\n",
      "Epoch 7/10\n",
      "469/469 [==============================] - 106s 225ms/step - loss: 1.2667 - accuracy: 0.6907 - val_loss: 1.0211 - val_accuracy: 0.8252\n",
      "Epoch 8/10\n",
      "469/469 [==============================] - 102s 217ms/step - loss: 1.0954 - accuracy: 0.7141 - val_loss: 0.8532 - val_accuracy: 0.8370\n",
      "Epoch 9/10\n",
      "469/469 [==============================] - 103s 220ms/step - loss: 0.9649 - accuracy: 0.7344 - val_loss: 0.7353 - val_accuracy: 0.8446\n",
      "Epoch 10/10\n",
      "469/469 [==============================] - 103s 220ms/step - loss: 0.8724 - accuracy: 0.7513 - val_loss: 0.6516 - val_accuracy: 0.8540\n",
      "The model has successfully trained\n"
     ]
    }
   ],
   "source": [
    "batch_size = 128\n",
    "epochs = 10\n",
    "\n",
    "model = Sequential()\n",
    "model.add(Conv2D(32 , kernel_size=(3,3) , activation='relu' , input_shape=input_shape))\n",
    "model.add(Conv2D(64 , (3,3) , activation='relu'))\n",
    "model.add(MaxPool2D(pool_size=(2,2)))\n",
    "model.add(Dropout(0.25))\n",
    "model.add(Flatten())\n",
    "model.add(Dense(256 , activation='relu'))\n",
    "model.add(Dropout(0.5))\n",
    "model.add(Dense(num_classes , activation='softmax'))\n",
    "\n",
    "\n",
    "model.compile(loss=keras.losses.categorical_crossentropy,optimizer=Adadelta(),metrics=['accuracy'])\n",
    "\n",
    "hist = model.fit(x_train, y_train,batch_size=batch_size,epochs=epochs,verbose=1,validation_data=(x_test, y_test))\n",
    "\n",
    "print(\"The model has successfully trained\")"
   ]
  },
  {
   "cell_type": "code",
   "execution_count": 5,
   "id": "8f768fcf",
   "metadata": {},
   "outputs": [
    {
     "name": "stdout",
     "output_type": "stream",
     "text": [
      "Test loss: 0.6516439914703369\n",
      "Test accuracy: 0.8539999723434448\n",
      "Saving the model as DigitModel.h5\n"
     ]
    }
   ],
   "source": [
    "score = model.evaluate(x_test, y_test, verbose=0)\n",
    "print('Test loss:', score[0])\n",
    "print('Test accuracy:', score[1])\n",
    "model.save('DigitModel.h5')\n",
    "print(\"Saving the model as DigitModel.h5\")"
   ]
  },
  {
   "cell_type": "code",
   "execution_count": 18,
   "id": "ef536f0e",
   "metadata": {},
   "outputs": [
    {
     "name": "stderr",
     "output_type": "stream",
     "text": [
      "Exception in Tkinter callback\n",
      "Traceback (most recent call last):\n",
      "  File \"/usr/lib/python3.8/tkinter/__init__.py\", line 1892, in __call__\n",
      "    return self.func(*args)\n",
      "  File \"/tmp/ipykernel_6177/561267856.py\", line 67, in show_image\n",
      "    messagebox.info(\"\" , \"hiiiiiii\")\n",
      "AttributeError: module 'tkinter.messagebox' has no attribute 'info'\n",
      "Exception in Tkinter callback\n",
      "Traceback (most recent call last):\n",
      "  File \"/usr/lib/python3.8/tkinter/__init__.py\", line 1892, in __call__\n",
      "    return self.func(*args)\n",
      "  File \"/tmp/ipykernel_6177/561267856.py\", line 67, in show_image\n",
      "    messagebox.info(\"\" , \"hiiiiiii\")\n",
      "AttributeError: module 'tkinter.messagebox' has no attribute 'info'\n",
      "Exception in Tkinter callback\n",
      "Traceback (most recent call last):\n",
      "  File \"/usr/lib/python3.8/tkinter/__init__.py\", line 1892, in __call__\n",
      "    return self.func(*args)\n",
      "  File \"/tmp/ipykernel_6177/561267856.py\", line 67, in show_image\n",
      "    messagebox.info(\"\" , \"hiiiiiii\")\n",
      "AttributeError: module 'tkinter.messagebox' has no attribute 'info'\n"
     ]
    }
   ],
   "source": [
    "from keras.models import load_model\n",
    "from tkinter import *\n",
    "import tkinter as tk\n",
    "from PIL import Image ,  ImageTk\n",
    "import numpy as np\n",
    "import easygui as eg\n",
    "\n",
    "\n",
    "\n",
    "model = load_model('DigitModel.h5')\n",
    "\n",
    "def predict_image(img) :\n",
    "    img = img.resize((28 , 28))\n",
    "    #convert rgb to grayscale\n",
    "    img = img.convert('L')\n",
    "    img = np.array(img)\n",
    "    #reshaping to support our model input and normalizing\n",
    "    img = img.reshape(1 , 28 , 28 , 1)\n",
    "    img = img / 255.0\n",
    "    #predicting the class of image\n",
    "    res = model.predict([img])[0]\n",
    "    return (np.argmax(res) , max(res))\n",
    "\n",
    "\n",
    "class App(tk.Tk) :\n",
    "    def __init__(self) :\n",
    "        tk.Tk.__init__(self)\n",
    "        self.x = self.y = 0\n",
    "        \n",
    "        \n",
    "        # Creating elements\n",
    "        #self.canvas = tk.Canvas(self , width = 600 , height = 600 , bg = 'white' , cursor = 'cross')\n",
    "        self.label = tk.Label(self , text = 'Prediction' , font = (\"Helvetica\", 25))\n",
    "        self.select_btn = tk.Button(self , text = \"Select\", command = self.select_image)\n",
    "        self.clear_btn = tk.Button(self , text = 'Clear' , command = self.clear_all)\n",
    "        self.show_btn = tk.Button(self , text = 'Show' , command = self.show_image)\n",
    "        self.classify_btn = tk.Button(self , text = 'Recognize' , command = self.classify_image)\n",
    "        #self.path_label = tk.Label(self , text = 'Your Image Path' , font = (\"Helvetica\", 10))\n",
    "        self.path_label = tk.Label(self , width = 100 , height = 20 , bg = 'white' , cursor = 'cross')\n",
    "        \n",
    "        # Grid structure\n",
    "        #self.canvas.grid(row = 0 , column = 0 , pady = 2 , sticky= W)\n",
    "        self.label.grid(row = 0 , column = 1 , pady = 2 , padx = 2)\n",
    "        self.path_label.grid(row = 0 , column = 0 , pady = 2 , padx = 2)\n",
    "        self.classify_btn.grid(row = 2 , column = 2 , pady = 2 , padx = 2)\n",
    "        self.select_btn.grid(row = 2 , column = 0 , pady = 2 , padx = 2)\n",
    "        self.show_btn.grid(row = 2 , column = 1 , pady = 2 , padx = 2)\n",
    "        self.clear_btn.grid(row = 2 , column = 3 , pady = 2 , padx = 2)\n",
    "        \n",
    "    def clear_all(self) :\n",
    "        #self.canvas.delete('all')\n",
    "        self.label.configure(text = '')\n",
    "        self.path_label.configure(text = '')\n",
    "        \n",
    "    def select_image(self) :\n",
    "        img_path = eg.fileopenbox()\n",
    "        self.path_label.configure(text = img_path)\n",
    "        \n",
    "    def show_image(self) :\n",
    "        img_path = self.path_label['text']\n",
    "        img = ImageTk.PhotoImage(Image.open(img_path)) \n",
    "        img=Image.open(img_path)\n",
    "        img = img.resize((300, 300), Image.ANTIALIAS)\n",
    "        test = ImageTk.PhotoImage(img)\n",
    "        #self.canvas.create_image(10 , 10 , anchor = NW , image = img )\n",
    "        self.path_label.configure(image = test)\n",
    "        messagebox.INFO(\"\" , \"hiiiiiii\")\n",
    "    \n",
    "\n",
    "    def classify_image(self) :\n",
    "        img_path = self.path_label['text']\n",
    "        img=Image.open(img_path)\n",
    "        dig , acc = predict_image(img)\n",
    "        self.label.configure(text = str(dig) + ' : ' + str(int(acc*100)) + '%')\n",
    "        \n",
    "app = App()\n",
    "app.mainloop()"
   ]
  },
  {
   "cell_type": "code",
   "execution_count": null,
   "id": "7ad76032",
   "metadata": {},
   "outputs": [],
   "source": []
  },
  {
   "cell_type": "code",
   "execution_count": 4,
   "id": "c133ef1e",
   "metadata": {},
   "outputs": [
    {
     "ename": "TclError",
     "evalue": "image \"pyimage3\" doesn't exist",
     "output_type": "error",
     "traceback": [
      "\u001b[0;31m---------------------------------------------------------------------------\u001b[0m",
      "\u001b[0;31mTclError\u001b[0m                                  Traceback (most recent call last)",
      "\u001b[0;32m/tmp/ipykernel_14828/2151138549.py\u001b[0m in \u001b[0;36m<module>\u001b[0;34m\u001b[0m\n\u001b[1;32m     21\u001b[0m \u001b[0;34m\u001b[0m\u001b[0m\n\u001b[1;32m     22\u001b[0m \u001b[0mimg\u001b[0m \u001b[0;34m=\u001b[0m \u001b[0mImageTk\u001b[0m\u001b[0;34m.\u001b[0m\u001b[0mPhotoImage\u001b[0m\u001b[0;34m(\u001b[0m\u001b[0mImage\u001b[0m\u001b[0;34m.\u001b[0m\u001b[0mopen\u001b[0m\u001b[0;34m(\u001b[0m\u001b[0;34m'/home/nabih/Handwritten-Digit-Recognition/3.jpg'\u001b[0m\u001b[0;34m)\u001b[0m\u001b[0;34m)\u001b[0m\u001b[0;34m\u001b[0m\u001b[0;34m\u001b[0m\u001b[0m\n\u001b[0;32m---> 23\u001b[0;31m \u001b[0mcanvas\u001b[0m\u001b[0;34m.\u001b[0m\u001b[0mcreate_image\u001b[0m\u001b[0;34m(\u001b[0m\u001b[0;36m10\u001b[0m \u001b[0;34m,\u001b[0m \u001b[0;36m10\u001b[0m \u001b[0;34m,\u001b[0m \u001b[0manchor\u001b[0m \u001b[0;34m=\u001b[0m \u001b[0mNW\u001b[0m \u001b[0;34m,\u001b[0m \u001b[0mimage\u001b[0m \u001b[0;34m=\u001b[0m  \u001b[0mimg\u001b[0m\u001b[0;34m)\u001b[0m\u001b[0;34m\u001b[0m\u001b[0;34m\u001b[0m\u001b[0m\n\u001b[0m\u001b[1;32m     24\u001b[0m \u001b[0;34m\u001b[0m\u001b[0m\n\u001b[1;32m     25\u001b[0m \u001b[0;34m\u001b[0m\u001b[0m\n",
      "\u001b[0;32m/usr/lib/python3.8/tkinter/__init__.py\u001b[0m in \u001b[0;36mcreate_image\u001b[0;34m(self, *args, **kw)\u001b[0m\n\u001b[1;32m   2788\u001b[0m     \u001b[0;32mdef\u001b[0m \u001b[0mcreate_image\u001b[0m\u001b[0;34m(\u001b[0m\u001b[0mself\u001b[0m\u001b[0;34m,\u001b[0m \u001b[0;34m*\u001b[0m\u001b[0margs\u001b[0m\u001b[0;34m,\u001b[0m \u001b[0;34m**\u001b[0m\u001b[0mkw\u001b[0m\u001b[0;34m)\u001b[0m\u001b[0;34m:\u001b[0m\u001b[0;34m\u001b[0m\u001b[0;34m\u001b[0m\u001b[0m\n\u001b[1;32m   2789\u001b[0m         \u001b[0;34m\"\"\"Create image item with coordinates x1,y1.\"\"\"\u001b[0m\u001b[0;34m\u001b[0m\u001b[0;34m\u001b[0m\u001b[0m\n\u001b[0;32m-> 2790\u001b[0;31m         \u001b[0;32mreturn\u001b[0m \u001b[0mself\u001b[0m\u001b[0;34m.\u001b[0m\u001b[0m_create\u001b[0m\u001b[0;34m(\u001b[0m\u001b[0;34m'image'\u001b[0m\u001b[0;34m,\u001b[0m \u001b[0margs\u001b[0m\u001b[0;34m,\u001b[0m \u001b[0mkw\u001b[0m\u001b[0;34m)\u001b[0m\u001b[0;34m\u001b[0m\u001b[0;34m\u001b[0m\u001b[0m\n\u001b[0m\u001b[1;32m   2791\u001b[0m \u001b[0;34m\u001b[0m\u001b[0m\n\u001b[1;32m   2792\u001b[0m     \u001b[0;32mdef\u001b[0m \u001b[0mcreate_line\u001b[0m\u001b[0;34m(\u001b[0m\u001b[0mself\u001b[0m\u001b[0;34m,\u001b[0m \u001b[0;34m*\u001b[0m\u001b[0margs\u001b[0m\u001b[0;34m,\u001b[0m \u001b[0;34m**\u001b[0m\u001b[0mkw\u001b[0m\u001b[0;34m)\u001b[0m\u001b[0;34m:\u001b[0m\u001b[0;34m\u001b[0m\u001b[0;34m\u001b[0m\u001b[0m\n",
      "\u001b[0;32m/usr/lib/python3.8/tkinter/__init__.py\u001b[0m in \u001b[0;36m_create\u001b[0;34m(self, itemType, args, kw)\u001b[0m\n\u001b[1;32m   2774\u001b[0m         \u001b[0;32melse\u001b[0m\u001b[0;34m:\u001b[0m\u001b[0;34m\u001b[0m\u001b[0;34m\u001b[0m\u001b[0m\n\u001b[1;32m   2775\u001b[0m             \u001b[0mcnf\u001b[0m \u001b[0;34m=\u001b[0m \u001b[0;34m{\u001b[0m\u001b[0;34m}\u001b[0m\u001b[0;34m\u001b[0m\u001b[0;34m\u001b[0m\u001b[0m\n\u001b[0;32m-> 2776\u001b[0;31m         return self.tk.getint(self.tk.call(\n\u001b[0m\u001b[1;32m   2777\u001b[0m             \u001b[0mself\u001b[0m\u001b[0;34m.\u001b[0m\u001b[0m_w\u001b[0m\u001b[0;34m,\u001b[0m \u001b[0;34m'create'\u001b[0m\u001b[0;34m,\u001b[0m \u001b[0mitemType\u001b[0m\u001b[0;34m,\u001b[0m\u001b[0;34m\u001b[0m\u001b[0;34m\u001b[0m\u001b[0m\n\u001b[1;32m   2778\u001b[0m             *(args + self._options(cnf, kw))))\n",
      "\u001b[0;31mTclError\u001b[0m: image \"pyimage3\" doesn't exist"
     ]
    }
   ],
   "source": [
    "from tkinter import *  \n",
    "from PIL import ImageTk,Image  \n",
    "\n",
    "ws = Tk()  \n",
    "ws.title('Photo')\n",
    "#ws.geometry('500x500')\n",
    "\n",
    "def classify_handwriting() :\n",
    "        img_path = eg.fileopenbox()\n",
    "        messagebox.showinfo(title='Path' , message=img_path)\n",
    "        img=Image.open(img_path)\n",
    "        img = ImageTk.PhotoImage(img) \n",
    "       # canvas.create_image(10 , 10 , anchor = NW , image = img ) \n",
    "\n",
    "canvas = Canvas( ws, width = 500, height = 500 , bg = 'white' )  \n",
    "canvas.grid(row = 0 , column = 0 , pady = 2 , padx = 2)  \n",
    "classify_btn = Button(ws , text = \"Recognise\", command = classify_handwriting)\n",
    "classify_btn.grid(row = 1 , column = 0 , pady = 2 , padx = 2) \n",
    "\n",
    "\n",
    "\n",
    "img = ImageTk.PhotoImage(Image.open('/home/nabih/Handwritten-Digit-Recognition/3.jpg')) \n",
    "canvas.create_image(10 , 10 , anchor = NW , image =  img)\n",
    "\n",
    "     \n",
    "ws.mainloop() \n",
    "\n"
   ]
  },
  {
   "cell_type": "code",
   "execution_count": null,
   "id": "34c399d6",
   "metadata": {},
   "outputs": [],
   "source": []
  }
 ],
 "metadata": {
  "kernelspec": {
   "display_name": "Python 3 (ipykernel)",
   "language": "python",
   "name": "python3"
  },
  "language_info": {
   "codemirror_mode": {
    "name": "ipython",
    "version": 3
   },
   "file_extension": ".py",
   "mimetype": "text/x-python",
   "name": "python",
   "nbconvert_exporter": "python",
   "pygments_lexer": "ipython3",
   "version": "3.8.10"
  }
 },
 "nbformat": 4,
 "nbformat_minor": 5
}
